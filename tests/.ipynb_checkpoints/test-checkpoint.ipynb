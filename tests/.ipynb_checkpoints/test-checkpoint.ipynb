{
 "cells": [
  {
   "cell_type": "code",
   "execution_count": 28,
   "metadata": {
    "collapsed": true
   },
   "outputs": [],
   "source": [
    "import pandas as pd\n",
    "import os"
   ]
  },
  {
   "cell_type": "code",
   "execution_count": 29,
   "metadata": {
    "collapsed": false
   },
   "outputs": [
    {
     "data": {
      "text/plain": [
       "['work_orders_20170409.csv']"
      ]
     },
     "execution_count": 29,
     "metadata": {},
     "output_type": "execute_result"
    }
   ],
   "source": [
    "os.listdir('../work_orders/')"
   ]
  },
  {
   "cell_type": "code",
   "execution_count": 30,
   "metadata": {
    "collapsed": false
   },
   "outputs": [],
   "source": [
    "path_wo = '../work_orders'\n",
    "root_wo = '../work_orders/work_orders_'\n",
    "path_bom = '../bom'\n",
    "root_bom = '../bom/boms_'"
   ]
  },
  {
   "cell_type": "code",
   "execution_count": 31,
   "metadata": {
    "collapsed": true
   },
   "outputs": [],
   "source": [
    "def get_last_file_date(path):\n",
    "    l = os.listdir(path)\n",
    "    dates = sorted([name[-12:-4] for name in l if name[-4:] == '.csv'])\n",
    "    return dates[-1]\n",
    "    "
   ]
  },
  {
   "cell_type": "code",
   "execution_count": 32,
   "metadata": {
    "collapsed": false
   },
   "outputs": [],
   "source": [
    "def load_last_file(path, root):\n",
    "    \"\"\"load the last file (alphabetically) of a folder in a pandas table,\n",
    "    @input path to the folder\n",
    "    @input root : root name of the file\"\"\"\n",
    "    \n",
    "    d = get_last_file_date(path)\n",
    "    file_path =  root + str(d) + '.csv'\n",
    "    print \"loading file : \", file_path\n",
    "    return pd.read_csv(file_path)\n"
   ]
  },
  {
   "cell_type": "code",
   "execution_count": null,
   "metadata": {
    "collapsed": true
   },
   "outputs": [],
   "source": []
  },
  {
   "cell_type": "code",
   "execution_count": 33,
   "metadata": {
    "collapsed": false
   },
   "outputs": [
    {
     "name": "stdout",
     "output_type": "stream",
     "text": [
      "loading file :  ../work_orders/work_orders_20170409.csv\n",
      "loading file :  ../bom/boms_20170409.csv\n"
     ]
    }
   ],
   "source": [
    "wo = load_last_file(path_wo, root_wo)\n",
    "bom = load_last_file(path_bom, root_bom)\n"
   ]
  },
  {
   "cell_type": "code",
   "execution_count": 34,
   "metadata": {
    "collapsed": true
   },
   "outputs": [],
   "source": [
    "def load_bom(path):\n",
    "    d = get_last_file_date(path)\n",
    "    wo_pa\n",
    "    \n",
    "    "
   ]
  },
  {
   "cell_type": "code",
   "execution_count": null,
   "metadata": {
    "collapsed": true
   },
   "outputs": [],
   "source": []
  },
  {
   "cell_type": "code",
   "execution_count": 35,
   "metadata": {
    "collapsed": false
   },
   "outputs": [],
   "source": [
    "wo = wo[['WorkOrderNumber', 'Date', 'Item', 'Quantity', 'Memo']]\n",
    "\n",
    "#wo.groupby(wo.WorkOrderNumber)"
   ]
  },
  {
   "cell_type": "code",
   "execution_count": 36,
   "metadata": {
    "collapsed": false
   },
   "outputs": [],
   "source": [
    "bom = bom[['Assembly', 'Component', 'Quantity']]\n",
    "bom = bom.fillna(method='ffill')"
   ]
  },
  {
   "cell_type": "code",
   "execution_count": 37,
   "metadata": {
    "collapsed": false
   },
   "outputs": [],
   "source": [
    "work_order_numbers = list(set(wo.WorkOrderNumber))"
   ]
  },
  {
   "cell_type": "code",
   "execution_count": 38,
   "metadata": {
    "collapsed": false
   },
   "outputs": [
    {
     "data": {
      "text/plain": [
       "['PC0412', 'TB0412', 'VW0412', 'CC0412', 'DB0412']"
      ]
     },
     "execution_count": 38,
     "metadata": {},
     "output_type": "execute_result"
    }
   ],
   "source": [
    "work_order_numbers"
   ]
  },
  {
   "cell_type": "code",
   "execution_count": 39,
   "metadata": {
    "collapsed": false
   },
   "outputs": [],
   "source": [
    "\n",
    "def generate_wo_boms(wo, bom):\n",
    "    work_orders_boms = {}\n",
    "\n",
    "    for w in work_order_numbers:    \n",
    "        wo_temp = wo[wo.WorkOrderNumber==w].copy()\n",
    "        bom_items = []\n",
    "        for id_r, row in wo_temp.iterrows():\n",
    "            name = row['Item']\n",
    "            qt = row['Quantity']\n",
    "            bom_item = bom[bom.Assembly == name].copy()\n",
    "            bom_item = bom_item[['Component', 'Quantity']]\n",
    "            bom_item.Quantity *= qt\n",
    "            bom_items.append(bom_item)\n",
    "        work_orders_boms[w] = pd.concat(bom_items).groupby('Component').sum()\n",
    "    return work_orders_boms"
   ]
  },
  {
   "cell_type": "code",
   "execution_count": 40,
   "metadata": {
    "collapsed": false
   },
   "outputs": [],
   "source": [
    "list_of_bom = generate_wo_boms(wo, bom )"
   ]
  },
  {
   "cell_type": "code",
   "execution_count": 41,
   "metadata": {
    "collapsed": false
   },
   "outputs": [
    {
     "data": {
      "text/plain": [
       "u'<table border=\"1\" class=\"dataframe\">\\n  <thead>\\n    <tr style=\"text-align: right;\">\\n      <th></th>\\n      <th>Quantity</th>\\n    </tr>\\n    <tr>\\n      <th>Component</th>\\n      <th></th>\\n    </tr>\\n  </thead>\\n  <tbody>\\n    <tr>\\n      <th>Beads - Gold 15-4202</th>\\n      <td>14.00000</td>\\n    </tr>\\n    <tr>\\n      <th>Beads - Green 15-375A</th>\\n      <td>30.00000</td>\\n    </tr>\\n    <tr>\\n      <th>Beads - Silver 15-4201</th>\\n      <td>30.00000</td>\\n    </tr>\\n    <tr>\\n      <th>Beads - Turquoise 15-374</th>\\n      <td>44.00000</td>\\n    </tr>\\n    <tr>\\n      <th>Beads - Yellow Green 722</th>\\n      <td>40.00000</td>\\n    </tr>\\n    <tr>\\n      <th>Glue - Aleene\\'s, 8 oz</th>\\n      <td>0.01350</td>\\n    </tr>\\n    <tr>\\n      <th>Japanese Rocaille WBG, 15, PF470</th>\\n      <td>2.00000</td>\\n    </tr>\\n    <tr>\\n      <th>Stamped Leather Cuff Large</th>\\n      <td>7.00000</td>\\n    </tr>\\n    <tr>\\n      <th>Stamped Leather Cuff Small</th>\\n      <td>8.00000</td>\\n    </tr>\\n    <tr>\\n      <th>Thread - Nymo Nylon White Size B</th>\\n      <td>0.02800</td>\\n    </tr>\\n    <tr>\\n      <th>Thread - Nymo White Size D</th>\\n      <td>0.07722</td>\\n    </tr>\\n  </tbody>\\n</table>'"
      ]
     },
     "execution_count": 41,
     "metadata": {},
     "output_type": "execute_result"
    }
   ],
   "source": [
    "list_of_bom['CC0412'].to_html()"
   ]
  },
  {
   "cell_type": "code",
   "execution_count": 42,
   "metadata": {
    "collapsed": false
   },
   "outputs": [],
   "source": [
    "with open('output.html', 'w') as f:\n",
    "    for w, df in list_of_bom.iteritems():\n",
    "        f.write('<h1> Work Order {} </h1>'.format(w))\n",
    "        f.write('<h2> Artisan : {}  </h2>'.format(w[:2]))\n",
    "        f.write('<h2> Raw materials </h2>'.format(w))\n",
    "        \n",
    "        f.write(df.to_html())\n",
    "        f.write('<h2> Summary </h2>')\n",
    "        f.write(wo[wo.WorkOrderNumber==w][['Date', 'Item', 'Quantity', 'Memo']].fillna('__').groupby('Item').first().to_html())\n",
    "        \n",
    "    "
   ]
  },
  {
   "cell_type": "code",
   "execution_count": 143,
   "metadata": {
    "collapsed": false
   },
   "outputs": [
    {
     "data": {
      "text/html": [
       "<div>\n",
       "<table border=\"1\" class=\"dataframe\">\n",
       "  <thead>\n",
       "    <tr style=\"text-align: right;\">\n",
       "      <th></th>\n",
       "      <th>Quantity</th>\n",
       "    </tr>\n",
       "    <tr>\n",
       "      <th>Component</th>\n",
       "      <th></th>\n",
       "    </tr>\n",
       "  </thead>\n",
       "  <tbody>\n",
       "    <tr>\n",
       "      <th>Beads - 15/0 Charlotte Bronze</th>\n",
       "      <td>2.35000</td>\n",
       "    </tr>\n",
       "    <tr>\n",
       "      <th>Beads - 15/0 Charlotte Crystal Silver</th>\n",
       "      <td>2.35000</td>\n",
       "    </tr>\n",
       "    <tr>\n",
       "      <th>Beads - 15/0 Charlotte Czech Gold</th>\n",
       "      <td>8.51000</td>\n",
       "    </tr>\n",
       "    <tr>\n",
       "      <th>Beads - 15/0 Charlotte Czech Silver</th>\n",
       "      <td>11.60000</td>\n",
       "    </tr>\n",
       "    <tr>\n",
       "      <th>Beads - Rose Gold 15/0 P481</th>\n",
       "      <td>14.00000</td>\n",
       "    </tr>\n",
       "    <tr>\n",
       "      <th>Beads - Silver 15-4201</th>\n",
       "      <td>20.00000</td>\n",
       "    </tr>\n",
       "    <tr>\n",
       "      <th>Beads - Turquoise 15-374</th>\n",
       "      <td>6.00000</td>\n",
       "    </tr>\n",
       "    <tr>\n",
       "      <th>Glue - Aleene's, 8 oz</th>\n",
       "      <td>0.00600</td>\n",
       "    </tr>\n",
       "    <tr>\n",
       "      <th>Japanese Rocaille WBG, 15, 720</th>\n",
       "      <td>24.00000</td>\n",
       "    </tr>\n",
       "    <tr>\n",
       "      <th>Labor for Large Luxe Cuff</th>\n",
       "      <td>3.00000</td>\n",
       "    </tr>\n",
       "    <tr>\n",
       "      <th>Labor for Small Luxe Cuff</th>\n",
       "      <td>2.00000</td>\n",
       "    </tr>\n",
       "    <tr>\n",
       "      <th>Stamped Leather Cuff Large</th>\n",
       "      <td>7.00000</td>\n",
       "    </tr>\n",
       "    <tr>\n",
       "      <th>Stamped Leather Cuff Small</th>\n",
       "      <td>5.00000</td>\n",
       "    </tr>\n",
       "    <tr>\n",
       "      <th>Thread - Nymo Nylon White Size 0</th>\n",
       "      <td>0.01729</td>\n",
       "    </tr>\n",
       "    <tr>\n",
       "      <th>Thread - Nymo Nylon White Size 00</th>\n",
       "      <td>0.00627</td>\n",
       "    </tr>\n",
       "    <tr>\n",
       "      <th>Thread - Nymo Nylon White Size B</th>\n",
       "      <td>0.00870</td>\n",
       "    </tr>\n",
       "    <tr>\n",
       "      <th>Thread - Nymo White Size D</th>\n",
       "      <td>0.02714</td>\n",
       "    </tr>\n",
       "    <tr>\n",
       "      <th>Thread - Nymo White Size D - bobbin</th>\n",
       "      <td>0.01388</td>\n",
       "    </tr>\n",
       "  </tbody>\n",
       "</table>\n",
       "</div>"
      ],
      "text/plain": [
       "                                       Quantity\n",
       "Component                                      \n",
       "Beads - 15/0 Charlotte Bronze           2.35000\n",
       "Beads - 15/0 Charlotte Crystal Silver   2.35000\n",
       "Beads - 15/0 Charlotte Czech Gold       8.51000\n",
       "Beads - 15/0 Charlotte Czech Silver    11.60000\n",
       "Beads - Rose Gold 15/0 P481            14.00000\n",
       "Beads - Silver 15-4201                 20.00000\n",
       "Beads - Turquoise 15-374                6.00000\n",
       "Glue - Aleene's, 8 oz                   0.00600\n",
       "Japanese Rocaille WBG, 15, 720         24.00000\n",
       "Labor for Large Luxe Cuff               3.00000\n",
       "Labor for Small Luxe Cuff               2.00000\n",
       "Stamped Leather Cuff Large              7.00000\n",
       "Stamped Leather Cuff Small              5.00000\n",
       "Thread - Nymo Nylon White Size 0        0.01729\n",
       "Thread - Nymo Nylon White Size 00       0.00627\n",
       "Thread - Nymo Nylon White Size B        0.00870\n",
       "Thread - Nymo White Size D              0.02714\n",
       "Thread - Nymo White Size D - bobbin     0.01388"
      ]
     },
     "execution_count": 143,
     "metadata": {},
     "output_type": "execute_result"
    }
   ],
   "source": [
    "list_of_bom.items()[0][1]"
   ]
  },
  {
   "cell_type": "code",
   "execution_count": 69,
   "metadata": {
    "collapsed": false
   },
   "outputs": [
    {
     "name": "stdout",
     "output_type": "stream",
     "text": [
      "Loading page (1/2)\n",
      "[>                                                           ] 0%\r",
      "[======>                                                     ] 10%\r",
      "[==============================>                             ] 50%\r",
      "[============================================================] 100%\r",
      "Printing pages (2/2)                                               \n",
      "[>                                                           ] \r",
      "Done                                                           \n"
     ]
    },
    {
     "data": {
      "text/plain": [
       "True"
      ]
     },
     "execution_count": 69,
     "metadata": {},
     "output_type": "execute_result"
    }
   ],
   "source": [
    "pdfkit.from_string(st, 'out.pdf')\n"
   ]
  },
  {
   "cell_type": "code",
   "execution_count": 67,
   "metadata": {
    "collapsed": false
   },
   "outputs": [],
   "source": [
    "st = \"\"\n",
    "   # for w, df in list_of_bom.iteritems():\n",
    "st += '<h1> Work Order {} </h1> '.format(w)\n",
    "st +='<h2> Artisan : {}  </h2>'.format(w[:2])\n",
    "st +='<h2> Raw materials </h2>'.format(w)\n",
    "\n",
    "st +=df.to_html()\n",
    "st +='<h2> Summary </h2>'\n",
    "st +=wo[wo.WorkOrderNumber==w][['Date', 'Item', 'Quantity', 'Memo']].fillna('__').groupby('Item').first().to_html()\n",
    "\n"
   ]
  },
  {
   "cell_type": "code",
   "execution_count": 54,
   "metadata": {
    "collapsed": true
   },
   "outputs": [],
   "source": [
    "from pylatex import Document, Section, Subsection, Math, Matrix, VectorName\n",
    "import numpy as np"
   ]
  },
  {
   "cell_type": "code",
   "execution_count": 74,
   "metadata": {
    "collapsed": false
   },
   "outputs": [],
   "source": [
    "\n",
    "from reportlab.pdfgen import canvas\n",
    "\n",
    "point = 1\n",
    "inch = 72\n",
    "\n",
    "TEXT = \"\"\"%s    page %d of %d\n",
    "a wonderful file\n",
    "created with Sample_Code/makesimple.py\"\"\"\n",
    "\n",
    "\n",
    "def make_pdf_file(output_filename,txt ):\n",
    "    title = output_filename\n",
    "    c = canvas.Canvas(output_filename, pagesize=(8.5 * inch, 11 * inch))\n",
    "    c.setStrokeColorRGB(0,0,0)\n",
    "    c.setFillColorRGB(0,0,0)\n",
    "    c.setFont(\"Helvetica\", 12 * point)\n",
    "    for subtline in txt.split( '\\n' ):\n",
    "        v = 10 * inch\n",
    "        c.drawString( 1 * inch, v, subtline )\n",
    "        v -= 12 * point\n",
    "    c.showPage()\n",
    "    c.save()"
   ]
  },
  {
   "cell_type": "code",
   "execution_count": 75,
   "metadata": {
    "collapsed": true
   },
   "outputs": [],
   "source": [
    "import pdfkit"
   ]
  },
  {
   "cell_type": "code",
   "execution_count": 76,
   "metadata": {
    "collapsed": false
   },
   "outputs": [],
   "source": [
    "make_pdf_file('test.pdf', st)"
   ]
  },
  {
   "cell_type": "code",
   "execution_count": 77,
   "metadata": {
    "collapsed": false
   },
   "outputs": [
    {
     "ename": "ImportError",
     "evalue": "No module named easy_pdf",
     "output_type": "error",
     "traceback": [
      "\u001b[0;31m---------------------------------------------------------------------------\u001b[0m",
      "\u001b[0;31mImportError\u001b[0m                               Traceback (most recent call last)",
      "\u001b[0;32m<ipython-input-77-4def66bec3f9>\u001b[0m in \u001b[0;36m<module>\u001b[0;34m()\u001b[0m\n\u001b[0;32m----> 1\u001b[0;31m \u001b[0;32mimport\u001b[0m \u001b[0measy_pdf\u001b[0m\u001b[0;34m\u001b[0m\u001b[0m\n\u001b[0m",
      "\u001b[0;31mImportError\u001b[0m: No module named easy_pdf"
     ]
    }
   ],
   "source": [
    "import easy_pdf"
   ]
  },
  {
   "cell_type": "code",
   "execution_count": 91,
   "metadata": {
    "collapsed": false
   },
   "outputs": [],
   "source": [
    "from weasyprint import HTML\n",
    "from jinja2 import"
   ]
  },
  {
   "cell_type": "code",
   "execution_count": 90,
   "metadata": {
    "collapsed": false
   },
   "outputs": [],
   "source": [
    "HTML(string=st).write_pdf(\"test.pdf\")"
   ]
  },
  {
   "cell_type": "code",
   "execution_count": 82,
   "metadata": {
    "collapsed": false
   },
   "outputs": [
    {
     "data": {
      "text/plain": [
       "'$Revision: 128 $'"
      ]
     },
     "execution_count": 82,
     "metadata": {},
     "output_type": "execute_result"
    }
   ],
   "source": [
    "ho.__version__"
   ]
  },
  {
   "cell_type": "code",
   "execution_count": 93,
   "metadata": {
    "collapsed": true
   },
   "outputs": [],
   "source": [
    "from jinja2 import Template\n"
   ]
  },
  {
   "cell_type": "code",
   "execution_count": 153,
   "metadata": {
    "collapsed": false
   },
   "outputs": [],
   "source": []
  },
  {
   "cell_type": "code",
   "execution_count": 165,
   "metadata": {
    "collapsed": false,
    "scrolled": true
   },
   "outputs": [
    {
     "name": "stderr",
     "output_type": "stream",
     "text": [
      "WARNING: Ignored `box-shadow: 0 0 10px rgba(0, 0, 0, .15)` at 7:9, unknown property.\n",
      "WARNING: Parse error at 66:12, expected a media type, got IDENT, IDENT, IDENT, (\n"
     ]
    }
   ],
   "source": [
    "with open(\"invoice_template.html\") as f: \n",
    "    tpl = f.read()\n",
    "template = Template(tpl)\n",
    "st=template.render(artisan=w[:2], id=w, \n",
    "                   image_path=\"file://\" + os.getcwd() + \"/etkie.png\",\n",
    "                   items=[k for k in wo_sum.iterrows()], total=35.00\n",
    ")\n",
    "HTML(string=st).write_pdf(\"test.pdf\")"
   ]
  },
  {
   "cell_type": "code",
   "execution_count": 117,
   "metadata": {
    "collapsed": false
   },
   "outputs": [
    {
     "data": {
      "text/plain": [
       "u'</html>'"
      ]
     },
     "execution_count": 117,
     "metadata": {},
     "output_type": "execute_result"
    }
   ],
   "source": [
    "st"
   ]
  },
  {
   "cell_type": "code",
   "execution_count": 128,
   "metadata": {
    "collapsed": false
   },
   "outputs": [
    {
     "data": {
      "text/plain": [
       "'file:///home/clement/src/etkie-software-tools/tests'"
      ]
     },
     "execution_count": 128,
     "metadata": {},
     "output_type": "execute_result"
    }
   ],
   "source": [
    "import os\n",
    "\"file:/\"+os.getcwd()\n"
   ]
  },
  {
   "cell_type": "code",
   "execution_count": 146,
   "metadata": {
    "collapsed": false
   },
   "outputs": [],
   "source": [
    "wo_sum = wo[wo.WorkOrderNumber==w][['Date', 'Item', 'Quantity', 'Memo']].fillna('__').groupby('Item').first()"
   ]
  },
  {
   "cell_type": "code",
   "execution_count": 157,
   "metadata": {
    "collapsed": false
   },
   "outputs": [
    {
     "data": {
      "text/plain": [
       "[3, 2, 2]"
      ]
     },
     "execution_count": 157,
     "metadata": {},
     "output_type": "execute_result"
    }
   ],
   "source": [
    "[k[1].Quantity for k in wo_sum.iterrows()]"
   ]
  },
  {
   "cell_type": "code",
   "execution_count": 168,
   "metadata": {
    "collapsed": false
   },
   "outputs": [
    {
     "data": {
      "text/plain": [
       "<pandas.core.groupby.DataFrameGroupBy object at 0x7f5d55d46690>"
      ]
     },
     "execution_count": 168,
     "metadata": {},
     "output_type": "execute_result"
    }
   ],
   "source": [
    "wo"
   ]
  },
  {
   "cell_type": "code",
   "execution_count": 166,
   "metadata": {
    "collapsed": false
   },
   "outputs": [
    {
     "ename": "SyntaxError",
     "evalue": "invalid syntax (<ipython-input-166-73e8aa1999c6>, line 3)",
     "output_type": "error",
     "traceback": [
      "\u001b[0;36m  File \u001b[0;32m\"<ipython-input-166-73e8aa1999c6>\"\u001b[0;36m, line \u001b[0;32m3\u001b[0m\n\u001b[0;31m    'Medium Cuff':28\u001b[0m\n\u001b[0m                ^\u001b[0m\n\u001b[0;31mSyntaxError\u001b[0m\u001b[0;31m:\u001b[0m invalid syntax\n"
     ]
    }
   ],
   "source": [
    "{'Small Cuff': 25,\n",
    "'Andrea, Aleksa Cuff Small':28\n",
    "'Medium Cuff':28\n",
    "'Large Cuff':35\n",
    "'Andrea, Aleksa Cuff Large':38}\n",
    "small = 25\n",
    "medium = 28\n",
    "large=35\n",
    "andrea =3\n",
    "aleksa = 3\n",
    " Wrap mini  = 25\n",
    "'Double wrap' = 50\n",
    "if luxe small = 40\n",
    "large = 60\n"
   ]
  },
  {
   "cell_type": "code",
   "execution_count": 183,
   "metadata": {
    "collapsed": false
   },
   "outputs": [],
   "source": [
    "bom_list=bom.groupby('Assembly').first()"
   ]
  },
  {
   "cell_type": "code",
   "execution_count": 179,
   "metadata": {
    "collapsed": false
   },
   "outputs": [],
   "source": [
    "with open('assembly_list.csv', 'w') as f:\n",
    "    for i in list(bom_list):\n",
    "        f.write(i + \",\\n\")"
   ]
  },
  {
   "cell_type": "code",
   "execution_count": 184,
   "metadata": {
    "collapsed": false
   },
   "outputs": [],
   "source": [
    "bom_list['labor_cost'] = None"
   ]
  },
  {
   "cell_type": "code",
   "execution_count": 190,
   "metadata": {
    "collapsed": false
   },
   "outputs": [],
   "source": [
    "bom_list = bom_list[['labor_cost']].copy()\n",
    "bom_list.to_excel('bom.xlsx')"
   ]
  },
  {
   "cell_type": "code",
   "execution_count": 193,
   "metadata": {
    "collapsed": false
   },
   "outputs": [],
   "source": [
    "list_of_ass = list(set(bom.Assembly))"
   ]
  },
  {
   "cell_type": "code",
   "execution_count": 201,
   "metadata": {
    "collapsed": false
   },
   "outputs": [
    {
     "data": {
      "text/plain": [
       "['Packaging - Bubble Wrap',\n",
       " 'Blake Luxe Earrings Silver',\n",
       " 'Mini Luxe Kerry Wrap',\n",
       " 'Copper Strip Med 5.5',\n",
       " 'Needles - Size 10 - 25 Pack',\n",
       " 'Packaging, Wholesale',\n",
       " 'Copper Metal Sheet',\n",
       " 'Drew Luxe Double Wrap',\n",
       " 'Copper Strip X Sm 5.5',\n",
       " 'Blake Luxe Earrings Gold',\n",
       " 'Packaging - Bracelet Pouch',\n",
       " 'Mothers Day Mini Rose Glass Cuff',\n",
       " 'Copper Strip Sm 5.5',\n",
       " 'Custom Cuff',\n",
       " 'Beads - 15/0 Cut Sterling Silver']"
      ]
     },
     "execution_count": 201,
     "metadata": {},
     "output_type": "execute_result"
    }
   ],
   "source": [
    "[k for k in list_of_ass if ('Small' not in k) and ('Medium' not in k) and  ('Large' not in k) and ('small' not in k) and ('large' not in k)]"
   ]
  },
  {
   "cell_type": "code",
   "execution_count": 195,
   "metadata": {
    "collapsed": false
   },
   "outputs": [
    {
     "data": {
      "text/plain": [
       "True"
      ]
     },
     "execution_count": 195,
     "metadata": {},
     "output_type": "execute_result"
    }
   ],
   "source": [
    "'Small' in 'Andrea Glass Cuff Small'"
   ]
  },
  {
   "cell_type": "code",
   "execution_count": 204,
   "metadata": {
    "collapsed": false
   },
   "outputs": [
    {
     "data": {
      "text/plain": [
       "['Blake Luxe Earrings Silver',\n",
       " 'Iris Luxe Cuff Small',\n",
       " 'Drew Luxe Cuff Large',\n",
       " 'Mini Luxe Kerry Wrap',\n",
       " 'Thunderbird Luxe Cuff Small',\n",
       " 'Michelle Luxe Cuff Small',\n",
       " 'Sterling Silver Braided Luxe Cuff Small',\n",
       " 'Naomi Luxe Cuff Small',\n",
       " 'Nikki Luxe Earrings Gold Large',\n",
       " 'Nikki Luxe Earrings Gold Medium',\n",
       " 'Hillary Luxe Earrings Silver Medium',\n",
       " 'Thunderbird Luxe Cuff Large',\n",
       " 'Drew Luxe Double Wrap',\n",
       " 'Lily Luxe Bangle Small',\n",
       " 'Hillary Luxe Earrings Silver Large',\n",
       " 'Iris Luxe Cuff Large',\n",
       " 'Drew Luxe Cuff Small',\n",
       " 'Blake Luxe Earrings Gold',\n",
       " 'Liv Luxe Bangle Small',\n",
       " 'Philomena Luxe Cuff Large']"
      ]
     },
     "execution_count": 204,
     "metadata": {},
     "output_type": "execute_result"
    }
   ],
   "source": [
    "[k for k in list_of_ass if ('Luxe'  in k) ]"
   ]
  },
  {
   "cell_type": "code",
   "execution_count": null,
   "metadata": {
    "collapsed": true
   },
   "outputs": [],
   "source": []
  }
 ],
 "metadata": {
  "kernelspec": {
   "display_name": "Python 2",
   "language": "python",
   "name": "python2"
  },
  "language_info": {
   "codemirror_mode": {
    "name": "ipython",
    "version": 2
   },
   "file_extension": ".py",
   "mimetype": "text/x-python",
   "name": "python",
   "nbconvert_exporter": "python",
   "pygments_lexer": "ipython2",
   "version": "2.7.12"
  }
 },
 "nbformat": 4,
 "nbformat_minor": 1
}
