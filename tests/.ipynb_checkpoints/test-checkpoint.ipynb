{
 "cells": [
  {
   "cell_type": "code",
   "execution_count": 2,
   "metadata": {
    "collapsed": true
   },
   "outputs": [],
   "source": [
    "import pandas as pd"
   ]
  },
  {
   "cell_type": "code",
   "execution_count": 1,
   "metadata": {
    "collapsed": false
   },
   "outputs": [
    {
     "ename": "NameError",
     "evalue": "name 'pandas' is not defined",
     "output_type": "error",
     "traceback": [
      "\u001b[0;31m---------------------------------------------------------------------------\u001b[0m",
      "\u001b[0;31mNameError\u001b[0m                                 Traceback (most recent call last)",
      "\u001b[0;32m<ipython-input-1-0e6f7f01c81b>\u001b[0m in \u001b[0;36m<module>\u001b[0;34m()\u001b[0m\n\u001b[0;32m----> 1\u001b[0;31m \u001b[0mpandas\u001b[0m\u001b[0;34m.\u001b[0m\u001b[0mread_csv\u001b[0m\u001b[0;34m(\u001b[0m\u001b[0;34m'work_orders_20170409.csv'\u001b[0m\u001b[0;34m)\u001b[0m\u001b[0;34m\u001b[0m\u001b[0m\n\u001b[0m",
      "\u001b[0;31mNameError\u001b[0m: name 'pandas' is not defined"
     ]
    }
   ],
   "source": [
    "pandas.read_csv('work_orders_20170409.csv')"
   ]
  },
  {
   "cell_type": "code",
   "execution_count": 3,
   "metadata": {
    "collapsed": false
   },
   "outputs": [
    {
     "name": "stdout",
     "output_type": "stream",
     "text": [
      "Untitled.ipynb\r\n"
     ]
    }
   ],
   "source": [
    "ls"
   ]
  },
  {
   "cell_type": "code",
   "execution_count": 4,
   "metadata": {
    "collapsed": true
   },
   "outputs": [],
   "source": [
    "import os"
   ]
  },
  {
   "cell_type": "code",
   "execution_count": 37,
   "metadata": {
    "collapsed": false
   },
   "outputs": [
    {
     "data": {
      "text/plain": [
       "['work_orders_20170409.csv']"
      ]
     },
     "execution_count": 37,
     "metadata": {},
     "output_type": "execute_result"
    }
   ],
   "source": [
    "os.listdir('../work_orders/')"
   ]
  },
  {
   "cell_type": "code",
   "execution_count": 58,
   "metadata": {
    "collapsed": false
   },
   "outputs": [],
   "source": [
    "path_wo = '../work_orders'\n",
    "root_wo = '../work_orders/work_orders_'\n",
    "path_bom = '../bom'\n",
    "root_bom = '../bom/boms_'"
   ]
  },
  {
   "cell_type": "code",
   "execution_count": 59,
   "metadata": {
    "collapsed": true
   },
   "outputs": [],
   "source": [
    "def get_last_file_date(path):\n",
    "    l = os.listdir(path)\n",
    "    dates = sorted([name[-12:-4] for name in l if name[-4:] == '.csv'])\n",
    "    return dates[-1]\n",
    "    "
   ]
  },
  {
   "cell_type": "code",
   "execution_count": 60,
   "metadata": {
    "collapsed": false
   },
   "outputs": [
    {
     "data": {
      "text/plain": [
       "'20170409'"
      ]
     },
     "execution_count": 60,
     "metadata": {},
     "output_type": "execute_result"
    }
   ],
   "source": [
    "get_last_work_order_date(path)"
   ]
  },
  {
   "cell_type": "code",
   "execution_count": 61,
   "metadata": {
    "collapsed": false
   },
   "outputs": [],
   "source": [
    "def load_last_file(path, root):\n",
    "    \"\"\"load the last file (alphabetically) of a folder in a pandas table,\n",
    "    @input path to the folder\n",
    "    @input root : root name of the file\"\"\"\n",
    "    \n",
    "    d = get_last_file_date(path)\n",
    "    file_path =  root + str(d) + '.csv'\n",
    "    print \"loading file : \", file_path\n",
    "    return pd.read_csv(file_path)\n"
   ]
  },
  {
   "cell_type": "code",
   "execution_count": null,
   "metadata": {
    "collapsed": true
   },
   "outputs": [],
   "source": []
  },
  {
   "cell_type": "code",
   "execution_count": 62,
   "metadata": {
    "collapsed": false
   },
   "outputs": [
    {
     "name": "stdout",
     "output_type": "stream",
     "text": [
      "loading file :  ../work_orders/work_orders_20170409.csv\n",
      "loading file :  ../bom/boms_20170409.csv\n"
     ]
    }
   ],
   "source": [
    "wo = load_last_file(path_wo, root_wo)\n",
    "bom = load_last_file(path_bom, root_bom)\n"
   ]
  },
  {
   "cell_type": "code",
   "execution_count": 48,
   "metadata": {
    "collapsed": true
   },
   "outputs": [],
   "source": [
    "def load_bom(path):\n",
    "    d = get_last_file_date(path)\n",
    "    wo_pa\n",
    "    \n",
    "    "
   ]
  },
  {
   "cell_type": "code",
   "execution_count": null,
   "metadata": {
    "collapsed": true
   },
   "outputs": [],
   "source": []
  },
  {
   "cell_type": "code",
   "execution_count": 69,
   "metadata": {
    "collapsed": false
   },
   "outputs": [],
   "source": [
    "wo = wo[['WorkOrderNumber', 'Date', 'Item', 'Quantity', 'Memo']]\n",
    "\n",
    "#wo.groupby(wo.WorkOrderNumber)"
   ]
  },
  {
   "cell_type": "code",
   "execution_count": 75,
   "metadata": {
    "collapsed": false
   },
   "outputs": [],
   "source": [
    "bom = bom[['Assembly', 'Component', 'Quantity']]\n",
    "bom = bom.fillna(method='ffill')"
   ]
  },
  {
   "cell_type": "code",
   "execution_count": 80,
   "metadata": {
    "collapsed": false
   },
   "outputs": [],
   "source": [
    "work_order_numbers = list(set(wo.WorkOrderNumber))"
   ]
  },
  {
   "cell_type": "code",
   "execution_count": 81,
   "metadata": {
    "collapsed": false
   },
   "outputs": [
    {
     "data": {
      "text/plain": [
       "['PC0412', 'TB0412', 'VW0412', 'CC0412', 'DB0412']"
      ]
     },
     "execution_count": 81,
     "metadata": {},
     "output_type": "execute_result"
    }
   ],
   "source": [
    "work_order_numbers"
   ]
  },
  {
   "cell_type": "code",
   "execution_count": 133,
   "metadata": {
    "collapsed": false
   },
   "outputs": [
    {
     "data": {
      "text/html": [
       "<div>\n",
       "<table border=\"1\" class=\"dataframe\">\n",
       "  <thead>\n",
       "    <tr style=\"text-align: right;\">\n",
       "      <th></th>\n",
       "      <th>Quantity</th>\n",
       "    </tr>\n",
       "    <tr>\n",
       "      <th>Component</th>\n",
       "      <th></th>\n",
       "    </tr>\n",
       "  </thead>\n",
       "  <tbody>\n",
       "    <tr>\n",
       "      <th>Beads - 15/0 Charlotte Bronze</th>\n",
       "      <td>2.35000</td>\n",
       "    </tr>\n",
       "    <tr>\n",
       "      <th>Beads - 15/0 Charlotte Crystal Silver</th>\n",
       "      <td>2.35000</td>\n",
       "    </tr>\n",
       "    <tr>\n",
       "      <th>Beads - 15/0 Charlotte Czech Gold</th>\n",
       "      <td>8.51000</td>\n",
       "    </tr>\n",
       "    <tr>\n",
       "      <th>Beads - 15/0 Charlotte Czech Silver</th>\n",
       "      <td>11.60000</td>\n",
       "    </tr>\n",
       "    <tr>\n",
       "      <th>Beads - Rose Gold 15/0 P481</th>\n",
       "      <td>14.00000</td>\n",
       "    </tr>\n",
       "    <tr>\n",
       "      <th>Beads - Silver 15-4201</th>\n",
       "      <td>20.00000</td>\n",
       "    </tr>\n",
       "    <tr>\n",
       "      <th>Beads - Turquoise 15-374</th>\n",
       "      <td>6.00000</td>\n",
       "    </tr>\n",
       "    <tr>\n",
       "      <th>Glue - Aleene's, 8 oz</th>\n",
       "      <td>0.00600</td>\n",
       "    </tr>\n",
       "    <tr>\n",
       "      <th>Japanese Rocaille WBG, 15, 720</th>\n",
       "      <td>24.00000</td>\n",
       "    </tr>\n",
       "    <tr>\n",
       "      <th>Labor for Large Luxe Cuff</th>\n",
       "      <td>3.00000</td>\n",
       "    </tr>\n",
       "    <tr>\n",
       "      <th>Labor for Small Luxe Cuff</th>\n",
       "      <td>2.00000</td>\n",
       "    </tr>\n",
       "    <tr>\n",
       "      <th>Stamped Leather Cuff Large</th>\n",
       "      <td>7.00000</td>\n",
       "    </tr>\n",
       "    <tr>\n",
       "      <th>Stamped Leather Cuff Small</th>\n",
       "      <td>5.00000</td>\n",
       "    </tr>\n",
       "    <tr>\n",
       "      <th>Thread - Nymo Nylon White Size 0</th>\n",
       "      <td>0.01729</td>\n",
       "    </tr>\n",
       "    <tr>\n",
       "      <th>Thread - Nymo Nylon White Size 00</th>\n",
       "      <td>0.00627</td>\n",
       "    </tr>\n",
       "    <tr>\n",
       "      <th>Thread - Nymo Nylon White Size B</th>\n",
       "      <td>0.00870</td>\n",
       "    </tr>\n",
       "    <tr>\n",
       "      <th>Thread - Nymo White Size D</th>\n",
       "      <td>0.02714</td>\n",
       "    </tr>\n",
       "    <tr>\n",
       "      <th>Thread - Nymo White Size D - bobbin</th>\n",
       "      <td>0.01388</td>\n",
       "    </tr>\n",
       "  </tbody>\n",
       "</table>\n",
       "</div>"
      ],
      "text/plain": [
       "                                       Quantity\n",
       "Component                                      \n",
       "Beads - 15/0 Charlotte Bronze           2.35000\n",
       "Beads - 15/0 Charlotte Crystal Silver   2.35000\n",
       "Beads - 15/0 Charlotte Czech Gold       8.51000\n",
       "Beads - 15/0 Charlotte Czech Silver    11.60000\n",
       "Beads - Rose Gold 15/0 P481            14.00000\n",
       "Beads - Silver 15-4201                 20.00000\n",
       "Beads - Turquoise 15-374                6.00000\n",
       "Glue - Aleene's, 8 oz                   0.00600\n",
       "Japanese Rocaille WBG, 15, 720         24.00000\n",
       "Labor for Large Luxe Cuff               3.00000\n",
       "Labor for Small Luxe Cuff               2.00000\n",
       "Stamped Leather Cuff Large              7.00000\n",
       "Stamped Leather Cuff Small              5.00000\n",
       "Thread - Nymo Nylon White Size 0        0.01729\n",
       "Thread - Nymo Nylon White Size 00       0.00627\n",
       "Thread - Nymo Nylon White Size B        0.00870\n",
       "Thread - Nymo White Size D              0.02714\n",
       "Thread - Nymo White Size D - bobbin     0.01388"
      ]
     },
     "execution_count": 133,
     "metadata": {},
     "output_type": "execute_result"
    }
   ],
   "source": [
    "\n",
    "def generate_wo_boms(wo, bom)\n",
    "work_orders_boms = {}\n",
    "\n",
    "for w in work_order_numbers:    \n",
    "    w = work_order_numbers[0]\n",
    "    wo_temp = wo[wo.WorkOrderNumber==w].copy()\n",
    "    bom_items = []\n",
    "    for id_r, row in wo_temp.iterrows():\n",
    "        name = row['Item']\n",
    "        qt = row['Quantity']\n",
    "        bom_item = bom[bom.Assembly == name].copy()\n",
    "        bom_item = bom_item[['Component', 'Quantity']]\n",
    "        bom_item.Quantity *= qt\n",
    "        bom_items.append(bom_item)\n",
    "    work_orders_boms[w] = pd.concat(bom_items).groupby('Component').sum()\n",
    "    "
   ]
  },
  {
   "cell_type": "code",
   "execution_count": 101,
   "metadata": {
    "collapsed": false
   },
   "outputs": [
    {
     "data": {
      "text/plain": [
       "'Drew Luxe Cuff Small'"
      ]
     },
     "execution_count": 101,
     "metadata": {},
     "output_type": "execute_result"
    }
   ],
   "source": [
    "name"
   ]
  },
  {
   "cell_type": "code",
   "execution_count": 122,
   "metadata": {
    "collapsed": false
   },
   "outputs": [],
   "source": []
  },
  {
   "cell_type": "code",
   "execution_count": 130,
   "metadata": {
    "collapsed": false
   },
   "outputs": [
    {
     "data": {
      "text/html": [
       "<div>\n",
       "<table border=\"1\" class=\"dataframe\">\n",
       "  <thead>\n",
       "    <tr style=\"text-align: right;\">\n",
       "      <th></th>\n",
       "      <th>Component</th>\n",
       "      <th>Quantity</th>\n",
       "    </tr>\n",
       "  </thead>\n",
       "  <tbody>\n",
       "    <tr>\n",
       "      <th>436</th>\n",
       "      <td>Stamped Leather Cuff Small</td>\n",
       "      <td>4.00000</td>\n",
       "    </tr>\n",
       "    <tr>\n",
       "      <th>437</th>\n",
       "      <td>Beads - 15/0 Charlotte Czech Gold</td>\n",
       "      <td>3.40000</td>\n",
       "    </tr>\n",
       "    <tr>\n",
       "      <th>438</th>\n",
       "      <td>Beads - 15/0 Charlotte Czech Silver</td>\n",
       "      <td>3.40000</td>\n",
       "    </tr>\n",
       "    <tr>\n",
       "      <th>439</th>\n",
       "      <td>Labor for Small Luxe Cuff</td>\n",
       "      <td>4.00000</td>\n",
       "    </tr>\n",
       "    <tr>\n",
       "      <th>440</th>\n",
       "      <td>Beads - 15/0 Charlotte Bronze</td>\n",
       "      <td>3.40000</td>\n",
       "    </tr>\n",
       "    <tr>\n",
       "      <th>441</th>\n",
       "      <td>Beads - 15/0 Charlotte Crystal Silver</td>\n",
       "      <td>3.40000</td>\n",
       "    </tr>\n",
       "    <tr>\n",
       "      <th>442</th>\n",
       "      <td>Glue - Aleene's, 8 oz</td>\n",
       "      <td>0.00200</td>\n",
       "    </tr>\n",
       "    <tr>\n",
       "      <th>443</th>\n",
       "      <td>Thread - Nymo Nylon White Size 0</td>\n",
       "      <td>0.00968</td>\n",
       "    </tr>\n",
       "    <tr>\n",
       "      <th>444</th>\n",
       "      <td>Thread - Nymo Nylon White Size 00</td>\n",
       "      <td>0.00252</td>\n",
       "    </tr>\n",
       "  </tbody>\n",
       "</table>\n",
       "</div>"
      ],
      "text/plain": [
       "                                 Component  Quantity\n",
       "436             Stamped Leather Cuff Small   4.00000\n",
       "437      Beads - 15/0 Charlotte Czech Gold   3.40000\n",
       "438    Beads - 15/0 Charlotte Czech Silver   3.40000\n",
       "439              Labor for Small Luxe Cuff   4.00000\n",
       "440          Beads - 15/0 Charlotte Bronze   3.40000\n",
       "441  Beads - 15/0 Charlotte Crystal Silver   3.40000\n",
       "442                  Glue - Aleene's, 8 oz   0.00200\n",
       "443       Thread - Nymo Nylon White Size 0   0.00968\n",
       "444      Thread - Nymo Nylon White Size 00   0.00252"
      ]
     },
     "execution_count": 130,
     "metadata": {},
     "output_type": "execute_result"
    }
   ],
   "source": [
    "bom_item.Quantity *= 2\n",
    "bom_item\n"
   ]
  },
  {
   "cell_type": "code",
   "execution_count": 125,
   "metadata": {
    "collapsed": false
   },
   "outputs": [
    {
     "data": {
      "text/html": [
       "<div>\n",
       "<table border=\"1\" class=\"dataframe\">\n",
       "  <thead>\n",
       "    <tr style=\"text-align: right;\">\n",
       "      <th></th>\n",
       "      <th>Quantity</th>\n",
       "    </tr>\n",
       "    <tr>\n",
       "      <th>Component</th>\n",
       "      <th></th>\n",
       "    </tr>\n",
       "  </thead>\n",
       "  <tbody>\n",
       "    <tr>\n",
       "      <th>Beads - 15/0 Charlotte Bronze</th>\n",
       "      <td>1.70000</td>\n",
       "    </tr>\n",
       "    <tr>\n",
       "      <th>Beads - 15/0 Charlotte Crystal Silver</th>\n",
       "      <td>1.70000</td>\n",
       "    </tr>\n",
       "    <tr>\n",
       "      <th>Beads - 15/0 Charlotte Czech Gold</th>\n",
       "      <td>1.70000</td>\n",
       "    </tr>\n",
       "    <tr>\n",
       "      <th>Beads - 15/0 Charlotte Czech Silver</th>\n",
       "      <td>1.70000</td>\n",
       "    </tr>\n",
       "    <tr>\n",
       "      <th>Glue - Aleene's, 8 oz</th>\n",
       "      <td>0.00100</td>\n",
       "    </tr>\n",
       "    <tr>\n",
       "      <th>Labor for Small Luxe Cuff</th>\n",
       "      <td>2.00000</td>\n",
       "    </tr>\n",
       "    <tr>\n",
       "      <th>Stamped Leather Cuff Small</th>\n",
       "      <td>2.00000</td>\n",
       "    </tr>\n",
       "    <tr>\n",
       "      <th>Thread - Nymo Nylon White Size 0</th>\n",
       "      <td>0.00484</td>\n",
       "    </tr>\n",
       "    <tr>\n",
       "      <th>Thread - Nymo Nylon White Size 00</th>\n",
       "      <td>0.00126</td>\n",
       "    </tr>\n",
       "  </tbody>\n",
       "</table>\n",
       "</div>"
      ],
      "text/plain": [
       "                                       Quantity\n",
       "Component                                      \n",
       "Beads - 15/0 Charlotte Bronze           1.70000\n",
       "Beads - 15/0 Charlotte Crystal Silver   1.70000\n",
       "Beads - 15/0 Charlotte Czech Gold       1.70000\n",
       "Beads - 15/0 Charlotte Czech Silver     1.70000\n",
       "Glue - Aleene's, 8 oz                   0.00100\n",
       "Labor for Small Luxe Cuff               2.00000\n",
       "Stamped Leather Cuff Small              2.00000\n",
       "Thread - Nymo Nylon White Size 0        0.00484\n",
       "Thread - Nymo Nylon White Size 00       0.00126"
      ]
     },
     "execution_count": 125,
     "metadata": {},
     "output_type": "execute_result"
    }
   ],
   "source": [
    "pd.concat([bom_item, bom_item]).groupby('Component').sum()"
   ]
  },
  {
   "cell_type": "code",
   "execution_count": null,
   "metadata": {
    "collapsed": true
   },
   "outputs": [],
   "source": []
  }
 ],
 "metadata": {
  "kernelspec": {
   "display_name": "Python 2",
   "language": "python",
   "name": "python2"
  },
  "language_info": {
   "codemirror_mode": {
    "name": "ipython",
    "version": 2
   },
   "file_extension": ".py",
   "mimetype": "text/x-python",
   "name": "python",
   "nbconvert_exporter": "python",
   "pygments_lexer": "ipython2",
   "version": "2.7.12"
  }
 },
 "nbformat": 4,
 "nbformat_minor": 1
}
